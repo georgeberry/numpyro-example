{
 "cells": [
  {
   "cell_type": "markdown",
   "metadata": {},
   "source": [
    "## Predict second year EPM from first year EPM for players in the 2020 NBA draft\n",
    "\n",
    "Super simple model\n",
    "\n",
    "```\n",
    "epm_year_2 ~ epm_year_1 + (1|drafting_team)\n",
    "```\n",
    "\n",
    "This is a dead simple intro to numpyro.\n",
    "\n",
    "See epm at [dunksandthrees.com](https://dunksandthrees.com/epm)\n",
    "\n",
    "See numpyro docs [here](https://num.pyro.ai/en/stable/tutorials/bayesian_regression.html#Posterior-Predictive-Distribution)\n",
    "\n",
    "Note epm is in standard deviations"
   ]
  },
  {
   "cell_type": "code",
   "execution_count": 45,
   "metadata": {},
   "outputs": [],
   "source": [
    "import polars as pl\n",
    "\n",
    "import numpy as np\n",
    "import jax.numpy as jnp\n",
    "import jax.random as random\n",
    "import numpyro\n",
    "import numpyro.distributions as dist\n",
    "from numpyro.infer import MCMC, NUTS\n",
    "from sklearn.preprocessing import LabelEncoder\n",
    "from numpyro.infer import Predictive\n",
    "from numpyro.diagnostics import hpdi\n",
    "import matplotlib.pyplot as plt\n",
    "\n",
    "s = numpyro.sample\n",
    "d = numpyro.deterministic"
   ]
  },
  {
   "cell_type": "code",
   "execution_count": 46,
   "metadata": {},
   "outputs": [],
   "source": [
    "df = pl.read_csv('2020_class.csv')"
   ]
  },
  {
   "cell_type": "code",
   "execution_count": 47,
   "metadata": {},
   "outputs": [
    {
     "data": {
      "text/html": [
       "<div><style>\n",
       ".dataframe > thead > tr > th,\n",
       ".dataframe > tbody > tr > td {\n",
       "  text-align: right;\n",
       "}\n",
       "</style>\n",
       "<small>shape: (5, 4)</small><table border=\"1\" class=\"dataframe\"><thead><tr><th>name</th><th>epm1</th><th>epm2</th><th>team1</th></tr><tr><td>str</td><td>f64</td><td>f64</td><td>str</td></tr></thead><tbody><tr><td>&quot;Aaron Nesmith&quot;</td><td>-0.845899</td><td>-0.888998</td><td>&quot;BOS&quot;</td></tr><tr><td>&quot;Aleksej Pokuse…</td><td>-2.235338</td><td>-0.527809</td><td>&quot;OKC&quot;</td></tr><tr><td>&quot;Anthony Edward…</td><td>0.023772</td><td>1.180775</td><td>&quot;MIN&quot;</td></tr><tr><td>&quot;CJ Elleby&quot;</td><td>-0.253226</td><td>-1.169969</td><td>&quot;POR&quot;</td></tr><tr><td>&quot;Cassius Stanle…</td><td>-1.842615</td><td>-0.888453</td><td>&quot;IND&quot;</td></tr></tbody></table></div>"
      ],
      "text/plain": [
       "shape: (5, 4)\n",
       "┌────────────────────┬───────────┬───────────┬───────┐\n",
       "│ name               ┆ epm1      ┆ epm2      ┆ team1 │\n",
       "│ ---                ┆ ---       ┆ ---       ┆ ---   │\n",
       "│ str                ┆ f64       ┆ f64       ┆ str   │\n",
       "╞════════════════════╪═══════════╪═══════════╪═══════╡\n",
       "│ Aaron Nesmith      ┆ -0.845899 ┆ -0.888998 ┆ BOS   │\n",
       "│ Aleksej Pokusevski ┆ -2.235338 ┆ -0.527809 ┆ OKC   │\n",
       "│ Anthony Edwards    ┆ 0.023772  ┆ 1.180775  ┆ MIN   │\n",
       "│ CJ Elleby          ┆ -0.253226 ┆ -1.169969 ┆ POR   │\n",
       "│ Cassius Stanley    ┆ -1.842615 ┆ -0.888453 ┆ IND   │\n",
       "└────────────────────┴───────────┴───────────┴───────┘"
      ]
     },
     "execution_count": 47,
     "metadata": {},
     "output_type": "execute_result"
    }
   ],
   "source": [
    "df.head()"
   ]
  },
  {
   "cell_type": "code",
   "execution_count": 48,
   "metadata": {},
   "outputs": [],
   "source": [
    "team1_encoder = LabelEncoder()\n",
    "df = df.with_columns(\n",
    "    team1_code = pl.lit(team1_encoder.fit_transform(df['team1'].to_numpy())),\n",
    ")"
   ]
  },
  {
   "cell_type": "code",
   "execution_count": 49,
   "metadata": {},
   "outputs": [
    {
     "data": {
      "text/html": [
       "<div><style>\n",
       ".dataframe > thead > tr > th,\n",
       ".dataframe > tbody > tr > td {\n",
       "  text-align: right;\n",
       "}\n",
       "</style>\n",
       "<small>shape: (5, 5)</small><table border=\"1\" class=\"dataframe\"><thead><tr><th>name</th><th>epm1</th><th>epm2</th><th>team1</th><th>team1_code</th></tr><tr><td>str</td><td>f64</td><td>f64</td><td>str</td><td>i64</td></tr></thead><tbody><tr><td>&quot;Aaron Nesmith&quot;</td><td>-0.845899</td><td>-0.888998</td><td>&quot;BOS&quot;</td><td>2</td></tr><tr><td>&quot;Aleksej Pokuse…</td><td>-2.235338</td><td>-0.527809</td><td>&quot;OKC&quot;</td><td>18</td></tr><tr><td>&quot;Anthony Edward…</td><td>0.023772</td><td>1.180775</td><td>&quot;MIN&quot;</td><td>15</td></tr><tr><td>&quot;CJ Elleby&quot;</td><td>-0.253226</td><td>-1.169969</td><td>&quot;POR&quot;</td><td>22</td></tr><tr><td>&quot;Cassius Stanle…</td><td>-1.842615</td><td>-0.888453</td><td>&quot;IND&quot;</td><td>10</td></tr></tbody></table></div>"
      ],
      "text/plain": [
       "shape: (5, 5)\n",
       "┌────────────────────┬───────────┬───────────┬───────┬────────────┐\n",
       "│ name               ┆ epm1      ┆ epm2      ┆ team1 ┆ team1_code │\n",
       "│ ---                ┆ ---       ┆ ---       ┆ ---   ┆ ---        │\n",
       "│ str                ┆ f64       ┆ f64       ┆ str   ┆ i64        │\n",
       "╞════════════════════╪═══════════╪═══════════╪═══════╪════════════╡\n",
       "│ Aaron Nesmith      ┆ -0.845899 ┆ -0.888998 ┆ BOS   ┆ 2          │\n",
       "│ Aleksej Pokusevski ┆ -2.235338 ┆ -0.527809 ┆ OKC   ┆ 18         │\n",
       "│ Anthony Edwards    ┆ 0.023772  ┆ 1.180775  ┆ MIN   ┆ 15         │\n",
       "│ CJ Elleby          ┆ -0.253226 ┆ -1.169969 ┆ POR   ┆ 22         │\n",
       "│ Cassius Stanley    ┆ -1.842615 ┆ -0.888453 ┆ IND   ┆ 10         │\n",
       "└────────────────────┴───────────┴───────────┴───────┴────────────┘"
      ]
     },
     "execution_count": 49,
     "metadata": {},
     "output_type": "execute_result"
    }
   ],
   "source": [
    "df.head()"
   ]
  },
  {
   "cell_type": "code",
   "execution_count": 50,
   "metadata": {},
   "outputs": [],
   "source": [
    "rng_key, rng_key_predict = random.split(random.PRNGKey(42))\n",
    "epm2 = df['epm2'].to_numpy()\n",
    "epm1 = df['epm1'].to_numpy()\n",
    "\n",
    "team1 = df['team1_code'].to_numpy()"
   ]
  },
  {
   "cell_type": "code",
   "execution_count": 51,
   "metadata": {},
   "outputs": [],
   "source": [
    "def model(epm1, team1, epm2=None):\n",
    "    n_team1 = len(np.unique(team1))\n",
    "\n",
    "    intercept = s('intercept', dist.Normal(0, 1))\n",
    "    sigma = s('sigma', dist.Exponential(1))\n",
    "    sigma_team1 = s('sigma_team1', dist.Exponential(1))\n",
    "\n",
    "    epm1_beta = s('epm1_beta', dist.Normal(0, 1))\n",
    "    with numpyro.plate('team1', n_team1):\n",
    "        z_team1 = s('z_team1', dist.Normal(0, 1))\n",
    "        beta_team1 = z_team1 * sigma_team1\n",
    "\n",
    "    yhat = intercept + epm1_beta * epm1 + beta_team1[team1]\n",
    "    s('obs', dist.Normal(loc=yhat, scale=sigma), obs=epm2)"
   ]
  },
  {
   "cell_type": "code",
   "execution_count": 52,
   "metadata": {},
   "outputs": [
    {
     "name": "stderr",
     "output_type": "stream",
     "text": [
      "sample: 100%|██████████| 1500/1500 [00:01<00:00, 1255.53it/s, 15 steps of size 3.17e-01. acc. prob=0.88]\n"
     ]
    },
    {
     "name": "stdout",
     "output_type": "stream",
     "text": [
      "\n",
      "                   mean       std    median      5.0%     95.0%     n_eff     r_hat\n",
      "    epm1_beta      0.54      0.17      0.54      0.28      0.82    872.36      1.01\n",
      "    intercept      0.07      0.18      0.07     -0.25      0.35    901.86      1.00\n",
      "        sigma      0.83      0.10      0.83      0.68      1.00   1331.13      1.00\n",
      "  sigma_team1      0.20      0.15      0.18      0.00      0.41    533.69      1.00\n",
      "   z_team1[0]     -0.09      0.94     -0.08     -1.67      1.47   2062.98      1.00\n",
      "   z_team1[1]      0.16      0.95      0.20     -1.31      1.74   1537.41      1.00\n",
      "   z_team1[2]     -0.05      0.94     -0.03     -1.57      1.54   2567.52      1.00\n",
      "   z_team1[3]      0.32      0.98      0.36     -1.22      1.91   1473.27      1.00\n",
      "   z_team1[4]     -0.01      1.00     -0.02     -1.69      1.63   2041.91      1.00\n",
      "   z_team1[5]      0.08      0.96      0.13     -1.63      1.51   1637.29      1.00\n",
      "   z_team1[6]      0.05      0.99      0.06     -1.47      1.77   2111.57      1.00\n",
      "   z_team1[7]      0.04      1.01      0.01     -1.70      1.56   1810.97      1.00\n",
      "   z_team1[8]     -0.22      0.91     -0.24     -1.61      1.34   2943.24      1.00\n",
      "   z_team1[9]     -0.00      0.93      0.00     -1.62      1.39   1994.10      1.00\n",
      "  z_team1[10]     -0.01      0.99     -0.01     -1.73      1.49   1366.63      1.00\n",
      "  z_team1[11]     -0.06      1.00     -0.06     -1.56      1.78   1545.41      1.00\n",
      "  z_team1[12]      0.45      1.02      0.44     -1.29      1.98   1673.11      1.00\n",
      "  z_team1[13]      0.13      0.97      0.11     -1.43      1.77   2075.85      1.00\n",
      "  z_team1[14]     -0.40      0.93     -0.45     -1.96      1.06   1755.93      1.00\n",
      "  z_team1[15]      0.27      1.00      0.30     -1.36      1.90   2134.07      1.00\n",
      "  z_team1[16]     -0.40      0.95     -0.41     -1.94      1.12   1324.14      1.00\n",
      "  z_team1[17]      0.42      0.95      0.41     -1.03      2.02   1448.34      1.00\n",
      "  z_team1[18]      0.04      0.97      0.02     -1.43      1.73   2103.88      1.00\n",
      "  z_team1[19]     -0.17      0.98     -0.17     -1.86      1.32   2212.97      1.00\n",
      "  z_team1[20]     -0.08      0.89     -0.07     -1.67      1.29   1314.36      1.00\n",
      "  z_team1[21]      0.45      0.99      0.44     -1.11      2.05   1425.64      1.00\n",
      "  z_team1[22]     -0.31      0.96     -0.30     -1.89      1.18   2090.91      1.00\n",
      "  z_team1[23]     -0.23      0.97     -0.21     -1.81      1.36   1844.87      1.00\n",
      "  z_team1[24]      0.12      0.98      0.12     -1.37      1.77   2632.27      1.00\n",
      "  z_team1[25]     -0.17      0.92     -0.20     -1.62      1.33   1900.48      1.00\n",
      "  z_team1[26]     -0.33      0.94     -0.33     -1.93      1.15   1934.04      1.00\n",
      "  z_team1[27]      0.08      0.96      0.07     -1.44      1.75   1488.76      1.00\n",
      "\n",
      "Number of divergences: 0\n"
     ]
    }
   ],
   "source": [
    "kernel = NUTS(model)\n",
    "mcmc = MCMC(\n",
    "    kernel,\n",
    "    num_warmup=500,\n",
    "    num_samples=1000,\n",
    "    num_chains=1,\n",
    "    progress_bar=True,\n",
    ")\n",
    "mcmc.run(\n",
    "    rng_key,\n",
    "    epm1,\n",
    "    team1,\n",
    "    epm2,\n",
    ")\n",
    "mcmc.print_summary()"
   ]
  },
  {
   "cell_type": "code",
   "execution_count": 73,
   "metadata": {},
   "outputs": [],
   "source": [
    "samples = mcmc.get_samples()"
   ]
  },
  {
   "cell_type": "code",
   "execution_count": 74,
   "metadata": {},
   "outputs": [],
   "source": [
    "predictive = Predictive(model, samples)"
   ]
  },
  {
   "cell_type": "code",
   "execution_count": 56,
   "metadata": {},
   "outputs": [],
   "source": [
    "rng_key, rng_key_ = random.split(rng_key)"
   ]
  },
  {
   "cell_type": "code",
   "execution_count": 57,
   "metadata": {},
   "outputs": [],
   "source": [
    "predictions = predictive(rng_key_, epm1=epm1, team1=team1)['obs']"
   ]
  },
  {
   "cell_type": "code",
   "execution_count": 58,
   "metadata": {},
   "outputs": [
    {
     "data": {
      "text/plain": [
       "Array([[-8.0471748e-01, -1.3130008e+00,  9.1489084e-02, ...,\n",
       "        -3.1371802e-01, -1.4440560e-01, -1.5579292e+00],\n",
       "       [-1.3788025e+00, -7.1832198e-01, -3.1860501e-01, ...,\n",
       "        -5.6618506e-01, -2.8078110e+00, -2.7238906e-03],\n",
       "       [-4.7004238e-01, -9.5895338e-01,  1.8318501e+00, ...,\n",
       "        -9.3303615e-01, -1.0221229e+00, -2.6932185e+00],\n",
       "       ...,\n",
       "       [-8.1560916e-01, -9.4071847e-01, -4.3858463e-01, ...,\n",
       "         8.6024475e-01, -2.3655670e+00, -2.1052046e+00],\n",
       "       [ 1.3623467e-01, -1.1763079e+00,  5.1214057e-01, ...,\n",
       "        -6.8867403e-01, -2.3919649e+00,  1.0226215e-01],\n",
       "       [ 5.7421554e-02, -7.3823833e-01, -2.0606656e-01, ...,\n",
       "         3.4481233e-01, -9.7540557e-01,  2.0245087e+00]], dtype=float32)"
      ]
     },
     "execution_count": 58,
     "metadata": {},
     "output_type": "execute_result"
    }
   ],
   "source": [
    "predictions"
   ]
  },
  {
   "cell_type": "code",
   "execution_count": 59,
   "metadata": {},
   "outputs": [],
   "source": [
    "means = jnp.mean(predictions, axis=0)\n",
    "hpdis = hpdi(predictions, 0.8)"
   ]
  },
  {
   "cell_type": "code",
   "execution_count": 60,
   "metadata": {},
   "outputs": [],
   "source": [
    "def plot_regression(x, y_mean, y_hpdi):\n",
    "    # Sort values for plotting by x axis\n",
    "    idx = jnp.argsort(x)\n",
    "    first_year_epm = x[idx]\n",
    "    mean = y_mean[idx]\n",
    "    hpdi = y_hpdi[:, idx]\n",
    "    second_year_epm = epm2[idx]\n",
    "\n",
    "    # Plot\n",
    "    fig, ax = plt.subplots(nrows=1, ncols=1, figsize=(6, 6))\n",
    "    ax.plot(first_year_epm, mean)\n",
    "    ax.plot(first_year_epm, second_year_epm, \"o\")\n",
    "    ax.fill_between(first_year_epm, hpdi[0], hpdi[1], alpha=0.3, interpolate=True)\n",
    "    return ax"
   ]
  },
  {
   "cell_type": "code",
   "execution_count": 61,
   "metadata": {},
   "outputs": [
    {
     "data": {
      "text/plain": [
       "[Text(0.5, 0, 'First Year EPM'),\n",
       " Text(0, 0.5, 'Second Year EPM'),\n",
       " Text(0.5, 1.0, 'Predictions with 80% CI')]"
      ]
     },
     "execution_count": 61,
     "metadata": {},
     "output_type": "execute_result"
    },
    {
     "data": {
      "image/png": "[encoded data removed]",
      "text/plain": [
       "<Figure size 600x600 with 1 Axes>"
      ]
     },
     "metadata": {},
     "output_type": "display_data"
    }
   ],
   "source": [
    "ax = plot_regression(epm1, means, hpdis)\n",
    "ax.set(xlabel=\"First Year EPM\", ylabel=\"Second Year EPM\", title=\"Predictions with 80% CI\")"
   ]
  },
  {
   "cell_type": "code",
   "execution_count": 72,
   "metadata": {},
   "outputs": [
    {
     "data": {
      "text/plain": [
       "Array(0.30112702, dtype=float32)"
      ]
     },
     "execution_count": 72,
     "metadata": {},
     "output_type": "execute_result"
    }
   ],
   "source": [
    "# what's the R^2?\n",
    "# 0.3, not bad!!\n",
    "\n",
    "1 - jnp.sum((epm2 - means) ** 2) / jnp.sum((epm2 - jnp.mean(epm2)) ** 2)"
   ]
  }
 ],
 "metadata": {
  "kernelspec": {
   "display_name": "funfund",
   "language": "python",
   "name": "python3"
  },
  "language_info": {
   "codemirror_mode": {
    "name": "ipython",
    "version": 3
   },
   "file_extension": ".py",
   "mimetype": "text/x-python",
   "name": "python",
   "nbconvert_exporter": "python",
   "pygments_lexer": "ipython3",
   "version": "3.9.16"
  },
  "orig_nbformat": 4
 },
 "nbformat": 4,
 "nbformat_minor": 2
}
